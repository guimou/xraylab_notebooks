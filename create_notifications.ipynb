{
 "cells": [
  {
   "cell_type": "markdown",
   "metadata": {},
   "source": [
    "## Parameters"
   ]
  },
  {
   "cell_type": "code",
   "execution_count": 1,
   "metadata": {},
   "outputs": [],
   "source": [
    "endpoint_url = 'http://rook-ceph-rgw-s3a.openshift-storage.svc.cluster.local'\n",
    "aws_access_key_id = 'XQ0RN77YAHN23EMOAR5B'\n",
    "aws_secret_access_key = 'NBgFuh139Rv0xHLY6LmYKSWvPytqmBFsJgAtJaRW'\n",
    "bucket_base_name = 'xraylab-0001'\n",
    "namespace = 'xraylab-0001'"
   ]
  },
  {
   "cell_type": "markdown",
   "metadata": {},
   "source": [
    "## Imports"
   ]
  },
  {
   "cell_type": "code",
   "execution_count": 2,
   "metadata": {},
   "outputs": [],
   "source": [
    "import boto3\n",
    "import json\n",
    "import botocore\n",
    "import argparse"
   ]
  },
  {
   "cell_type": "markdown",
   "metadata": {},
   "source": [
    "## S3 and SNS connections"
   ]
  },
  {
   "cell_type": "code",
   "execution_count": 3,
   "metadata": {},
   "outputs": [],
   "source": [
    "s3 = boto3.client('s3',\n",
    "                endpoint_url = endpoint_url,\n",
    "                aws_access_key_id = aws_access_key_id,\n",
    "                aws_secret_access_key = aws_secret_access_key,\n",
    "                region_name = 'default',\n",
    "                config=botocore.client.Config(signature_version = 's3'))\n",
    "\n",
    "sns = boto3.client('sns', \n",
    "                endpoint_url = endpoint_url, \n",
    "                aws_access_key_id = aws_access_key_id,\n",
    "                aws_secret_access_key= aws_secret_access_key,\n",
    "                region_name='default', \n",
    "                config=botocore.client.Config(signature_version = 's3'))"
   ]
  },
  {
   "cell_type": "markdown",
   "metadata": {},
   "source": [
    "## Create buckets"
   ]
  },
  {
   "cell_type": "code",
   "execution_count": 8,
   "metadata": {},
   "outputs": [],
   "source": [
    "def create_bucket(bucket_name):\n",
    "    result = s3.create_bucket(Bucket=bucket_name)\n",
    "    return result"
   ]
  },
  {
   "cell_type": "code",
   "execution_count": 9,
   "metadata": {},
   "outputs": [
    {
     "data": {
      "text/plain": [
       "{'ResponseMetadata': {'RequestId': 'tx000000000000000000376-005f8082f6-85e1-s3a',\n",
       "  'HostId': '',\n",
       "  'HTTPStatusCode': 200,\n",
       "  'HTTPHeaders': {'x-amz-request-id': 'tx000000000000000000376-005f8082f6-85e1-s3a',\n",
       "   'content-length': '0',\n",
       "   'date': 'Fri, 09 Oct 2020 15:34:14 GMT',\n",
       "   'connection': 'Keep-Alive'},\n",
       "  'RetryAttempts': 0}}"
      ]
     },
     "execution_count": 9,
     "metadata": {},
     "output_type": "execute_result"
    }
   ],
   "source": [
    "create_bucket(bucket_base_name)\n",
    "create_bucket(bucket_base_name+'-processed')\n",
    "create_bucket(bucket_base_name+'-anonymized')"
   ]
  },
  {
   "cell_type": "markdown",
   "metadata": {},
   "source": [
    "### Verification"
   ]
  },
  {
   "cell_type": "code",
   "execution_count": 4,
   "metadata": {},
   "outputs": [
    {
     "name": "stdout",
     "output_type": "stream",
     "text": [
      "xraylab-0001\n",
      "xraylab-0001-anonymized\n",
      "xraylab-0001-processed\n"
     ]
    }
   ],
   "source": [
    "for bucket in s3.list_buckets()['Buckets']:\n",
    "    print(bucket['Name'])"
   ]
  },
  {
   "cell_type": "code",
   "execution_count": 11,
   "metadata": {},
   "outputs": [],
   "source": [
    "# Make bucket public read\n",
    "for bucket in s3.list_buckets()['Buckets']:\n",
    "    bucket_policy = {\n",
    "                      \"Version\":\"2012-10-17\",\n",
    "                      \"Statement\":[\n",
    "                        {\n",
    "                          \"Sid\":\"AddPerm\",\n",
    "                          \"Effect\":\"Allow\",\n",
    "                          \"Principal\": \"*\",\n",
    "                          \"Action\":[\"s3:GetObject\"],\n",
    "                          \"Resource\":[\"arn:aws:s3:::{0}/*\".format(bucket['Name'])]\n",
    "                        }\n",
    "                      ]\n",
    "                    }\n",
    "    bucket_policy = json.dumps(bucket_policy)\n",
    "    s3.put_bucket_policy(Bucket=bucket['Name'], Policy=bucket_policy)"
   ]
  },
  {
   "cell_type": "markdown",
   "metadata": {},
   "source": [
    "## Bucket Notifications configuration"
   ]
  },
  {
   "cell_type": "code",
   "execution_count": 5,
   "metadata": {},
   "outputs": [],
   "source": [
    "attributes = {}\n",
    "attributes['push-endpoint'] = 'kafka://my-cluster-kafka-bootstrap.'+namespace+':9092'\n",
    "attributes['kafka-ack-level'] = 'broker'"
   ]
  },
  {
   "cell_type": "code",
   "execution_count": 6,
   "metadata": {},
   "outputs": [],
   "source": [
    "def create_topic(topic):\n",
    "    topic_arn = sns.create_topic(Name=topic, Attributes=attributes)['TopicArn']\n",
    "    return topic_arn"
   ]
  },
  {
   "cell_type": "code",
   "execution_count": 7,
   "metadata": {},
   "outputs": [
    {
     "data": {
      "text/plain": [
       "'arn:aws:sns:s3a::xray-images'"
      ]
     },
     "execution_count": 7,
     "metadata": {},
     "output_type": "execute_result"
    }
   ],
   "source": [
    "create_topic('xray-images')"
   ]
  },
  {
   "cell_type": "code",
   "execution_count": 8,
   "metadata": {},
   "outputs": [
    {
     "data": {
      "text/plain": [
       "{'Topics': [{'TopicArn': 'arn:aws:sns:s3a::xray-images'}],\n",
       " 'ResponseMetadata': {'RequestId': '1c914c63-07e3-4079-ad3d-0d78ced9e705.135196.529',\n",
       "  'HTTPStatusCode': 200,\n",
       "  'HTTPHeaders': {'x-amz-request-id': 'tx000000000000000000211-005f84b7d9-2101c-s3a',\n",
       "   'content-type': 'application/xml',\n",
       "   'content-length': '889',\n",
       "   'date': 'Mon, 12 Oct 2020 20:08:57 GMT',\n",
       "   'connection': 'Keep-Alive'},\n",
       "  'RetryAttempts': 0}}"
      ]
     },
     "execution_count": 8,
     "metadata": {},
     "output_type": "execute_result"
    }
   ],
   "source": [
    "sns.list_topics()"
   ]
  },
  {
   "cell_type": "code",
   "execution_count": 9,
   "metadata": {},
   "outputs": [
    {
     "data": {
      "text/plain": [
       "{'ResponseMetadata': {'RequestId': 'tx000000000000000000213-005f84b7df-2101c-s3a',\n",
       "  'HostId': '',\n",
       "  'HTTPStatusCode': 200,\n",
       "  'HTTPHeaders': {'x-amz-request-id': 'tx000000000000000000213-005f84b7df-2101c-s3a',\n",
       "   'content-length': '0',\n",
       "   'date': 'Mon, 12 Oct 2020 20:09:03 GMT',\n",
       "   'connection': 'Keep-Alive'},\n",
       "  'RetryAttempts': 0}}"
      ]
     },
     "execution_count": 9,
     "metadata": {},
     "output_type": "execute_result"
    }
   ],
   "source": [
    "bucket_notifications_configuration = {\n",
    "            \"TopicConfigurations\": [\n",
    "                {\n",
    "                    \"Id\": 'xray-images',\n",
    "                    \"TopicArn\": 'arn:aws:sns:s3a::xray-images',\n",
    "                    \"Events\": [\"s3:ObjectCreated:*\"]\n",
    "                }\n",
    "            ]\n",
    "        }\n",
    "\n",
    "s3.put_bucket_notification_configuration(Bucket = bucket_base_name,\n",
    "        NotificationConfiguration=bucket_notifications_configuration)"
   ]
  },
  {
   "cell_type": "code",
   "execution_count": 10,
   "metadata": {},
   "outputs": [
    {
     "data": {
      "text/plain": [
       "{'ResponseMetadata': {'RequestId': 'tx000000000000000000214-005f84b7e2-2101c-s3a',\n",
       "  'HostId': '',\n",
       "  'HTTPStatusCode': 200,\n",
       "  'HTTPHeaders': {'x-amz-request-id': 'tx000000000000000000214-005f84b7e2-2101c-s3a',\n",
       "   'content-type': 'application/xml',\n",
       "   'content-length': '192',\n",
       "   'date': 'Mon, 12 Oct 2020 20:09:06 GMT',\n",
       "   'connection': 'Keep-Alive'},\n",
       "  'RetryAttempts': 0},\n",
       " 'TopicConfigurations': [{'Id': 'xray-images',\n",
       "   'TopicArn': 'arn:aws:sns:s3a::xray-images',\n",
       "   'Events': ['s3:ObjectCreated:*']}]}"
      ]
     },
     "execution_count": 10,
     "metadata": {},
     "output_type": "execute_result"
    }
   ],
   "source": [
    "s3.get_bucket_notification_configuration(Bucket = bucket_base_name)"
   ]
  }
 ],
 "metadata": {
  "kernelspec": {
   "display_name": "Python 3",
   "language": "python",
   "name": "python3"
  },
  "language_info": {
   "codemirror_mode": {
    "name": "ipython",
    "version": 3
   },
   "file_extension": ".py",
   "mimetype": "text/x-python",
   "name": "python",
   "nbconvert_exporter": "python",
   "pygments_lexer": "ipython3",
   "version": "3.6.3"
  }
 },
 "nbformat": 4,
 "nbformat_minor": 2
}